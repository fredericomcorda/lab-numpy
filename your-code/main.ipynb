{
 "cells": [
  {
   "cell_type": "markdown",
   "metadata": {},
   "source": [
    "# Intrduction to NumPy\n",
    "\n",
    "\n",
    "#### 1. Import NumPy under the name np."
   ]
  },
  {
   "cell_type": "code",
   "execution_count": 56,
   "metadata": {},
   "outputs": [],
   "source": [
    "# your code here\n",
    "import numpy as np"
   ]
  },
  {
   "cell_type": "markdown",
   "metadata": {},
   "source": [
    "#### 2. Print your NumPy version."
   ]
  },
  {
   "cell_type": "code",
   "execution_count": 57,
   "metadata": {},
   "outputs": [
    {
     "name": "stdout",
     "output_type": "stream",
     "text": [
      "1.21.6\n"
     ]
    }
   ],
   "source": [
    "# your code here\n",
    "print(np.__version__)"
   ]
  },
  {
   "cell_type": "markdown",
   "metadata": {},
   "source": [
    "#### 3. Generate a 2x3x5 3-dimensional array with random values. Assign the array to variable *a*.\n",
    "**Challenge**: there are at least three easy ways that use numpy to generate random arrays. How many ways can you find?"
   ]
  },
  {
   "cell_type": "code",
   "execution_count": 58,
   "metadata": {},
   "outputs": [
    {
     "name": "stdout",
     "output_type": "stream",
     "text": [
      "[[[0.43589356 0.75143214 0.85939307 0.65776187 0.76011045]\n",
      "  [0.89997975 0.18832961 0.84385042 0.34419506 0.06129113]\n",
      "  [0.29876626 0.82407758 0.92277807 0.93420204 0.66039465]]\n",
      "\n",
      " [[0.76329817 0.69737277 0.40967706 0.9759126  0.0745771 ]\n",
      "  [0.29595984 0.04922384 0.76572204 0.32926792 0.76820789]\n",
      "  [0.60438578 0.83083879 0.73504658 0.81787558 0.86696272]]]\n"
     ]
    }
   ],
   "source": [
    "# Method 1\n",
    "a = np.random.sample(size=(2,3,5))\n",
    "\n",
    "print(a)\n"
   ]
  },
  {
   "cell_type": "code",
   "execution_count": 59,
   "metadata": {},
   "outputs": [
    {
     "name": "stdout",
     "output_type": "stream",
     "text": [
      "[[[69  8 87  7 57]\n",
      "  [87 17 57 26 69]\n",
      "  [98 28  9 82 28]]\n",
      "\n",
      " [[14 94 57 46 38]\n",
      "  [67 33 83 97 19]\n",
      "  [ 9 98 10 47 51]]]\n"
     ]
    }
   ],
   "source": [
    "a = np.random.randint(100, size = (2,3,5))\n",
    "print(a)"
   ]
  },
  {
   "cell_type": "code",
   "execution_count": 60,
   "metadata": {},
   "outputs": [
    {
     "name": "stdout",
     "output_type": "stream",
     "text": [
      "[[[0.97912552 0.63062069 0.48322617 0.04013556 0.60453071]\n",
      "  [0.19251799 0.6643125  0.77325803 0.02816087 0.28361563]\n",
      "  [0.84088713 0.09418897 0.31356481 0.51190156 0.12055931]]\n",
      "\n",
      " [[0.04462924 0.22528526 0.0258587  0.70798016 0.29841503]\n",
      "  [0.54106406 0.02240927 0.14081269 0.11653198 0.08997294]\n",
      "  [0.44456006 0.26590443 0.59891482 0.32479383 0.82619321]]]\n"
     ]
    }
   ],
   "source": [
    "\n",
    "a = np.random.random(size=(2,3,5))\n",
    "\n",
    "print(a)"
   ]
  },
  {
   "cell_type": "markdown",
   "metadata": {},
   "source": [
    "#### 4. Print *a*.\n"
   ]
  },
  {
   "cell_type": "code",
   "execution_count": 61,
   "metadata": {},
   "outputs": [
    {
     "name": "stdout",
     "output_type": "stream",
     "text": [
      "[[[0.97912552 0.63062069 0.48322617 0.04013556 0.60453071]\n",
      "  [0.19251799 0.6643125  0.77325803 0.02816087 0.28361563]\n",
      "  [0.84088713 0.09418897 0.31356481 0.51190156 0.12055931]]\n",
      "\n",
      " [[0.04462924 0.22528526 0.0258587  0.70798016 0.29841503]\n",
      "  [0.54106406 0.02240927 0.14081269 0.11653198 0.08997294]\n",
      "  [0.44456006 0.26590443 0.59891482 0.32479383 0.82619321]]]\n",
      "(2, 3, 5)\n"
     ]
    }
   ],
   "source": [
    "# your code here\n",
    "print(a)\n",
    "print(a.shape)"
   ]
  },
  {
   "cell_type": "markdown",
   "metadata": {},
   "source": [
    "#### 5. Create a 5x2x3 3-dimensional array with all values equaling 1. Assign the array to variable *b*."
   ]
  },
  {
   "cell_type": "code",
   "execution_count": 62,
   "metadata": {},
   "outputs": [],
   "source": [
    "b = np.ones(shape=(5,2,3))\n",
    "\n"
   ]
  },
  {
   "cell_type": "markdown",
   "metadata": {},
   "source": [
    "#### 6. Print *b*.\n"
   ]
  },
  {
   "cell_type": "code",
   "execution_count": 63,
   "metadata": {},
   "outputs": [
    {
     "name": "stdout",
     "output_type": "stream",
     "text": [
      "[[[1. 1. 1.]\n",
      "  [1. 1. 1.]]\n",
      "\n",
      " [[1. 1. 1.]\n",
      "  [1. 1. 1.]]\n",
      "\n",
      " [[1. 1. 1.]\n",
      "  [1. 1. 1.]]\n",
      "\n",
      " [[1. 1. 1.]\n",
      "  [1. 1. 1.]]\n",
      "\n",
      " [[1. 1. 1.]\n",
      "  [1. 1. 1.]]]\n"
     ]
    }
   ],
   "source": [
    "print(b)"
   ]
  },
  {
   "cell_type": "markdown",
   "metadata": {},
   "source": [
    "#### 7. Do *a* and *b* have the same size? How do you prove that in Python code?"
   ]
  },
  {
   "cell_type": "code",
   "execution_count": 64,
   "metadata": {},
   "outputs": [
    {
     "name": "stdout",
     "output_type": "stream",
     "text": [
      "dimentions are not the same\n"
     ]
    }
   ],
   "source": [
    "if a.shape == b.shape:\n",
    "    print('the arrays are the same size')\n",
    "else:\n",
    "    print('dimentions are not the same')"
   ]
  },
  {
   "cell_type": "markdown",
   "metadata": {},
   "source": [
    "#### 8. Are you able to add *a* and *b*? Why or why not?\n"
   ]
  },
  {
   "cell_type": "code",
   "execution_count": 65,
   "metadata": {},
   "outputs": [
    {
     "name": "stdout",
     "output_type": "stream",
     "text": [
      "operation not possible, different dimentions\n"
     ]
    }
   ],
   "source": [
    "try:\n",
    "    np.add(a,b)\n",
    "except ValueError:\n",
    "    print(\"operation not possible, different dimentions\")"
   ]
  },
  {
   "cell_type": "markdown",
   "metadata": {},
   "source": [
    "#### 9. Transpose *b* so that it has the same structure of *a* (i.e. become a 2x3x5 array). Assign the transposed array to variable *c*."
   ]
  },
  {
   "cell_type": "code",
   "execution_count": 66,
   "metadata": {},
   "outputs": [
    {
     "name": "stdout",
     "output_type": "stream",
     "text": [
      "(2, 3, 5)\n",
      "(2, 3, 5)\n"
     ]
    }
   ],
   "source": [
    "# your code here\n",
    "c = np.transpose(b, (1,2,0))\n",
    "print(c.shape)\n",
    "print(a.shape)"
   ]
  },
  {
   "cell_type": "markdown",
   "metadata": {},
   "source": [
    "#### 10. Try to add *a* and *c*. Now it should work. Assign the sum to variable *d*. But why does it work now?"
   ]
  },
  {
   "cell_type": "code",
   "execution_count": 67,
   "metadata": {},
   "outputs": [
    {
     "name": "stdout",
     "output_type": "stream",
     "text": [
      "they have the same shape\n"
     ]
    }
   ],
   "source": [
    "d = np.add(a, c)\n",
    "print(\"they have the same shape\")"
   ]
  },
  {
   "cell_type": "markdown",
   "metadata": {},
   "source": [
    "#### 11. Print *a* and *d*. Notice the difference and relation of the two array in terms of the values? Explain."
   ]
  },
  {
   "cell_type": "code",
   "execution_count": 68,
   "metadata": {},
   "outputs": [
    {
     "name": "stdout",
     "output_type": "stream",
     "text": [
      "[[[0.97912552 0.63062069 0.48322617 0.04013556 0.60453071]\n",
      "  [0.19251799 0.6643125  0.77325803 0.02816087 0.28361563]\n",
      "  [0.84088713 0.09418897 0.31356481 0.51190156 0.12055931]]\n",
      "\n",
      " [[0.04462924 0.22528526 0.0258587  0.70798016 0.29841503]\n",
      "  [0.54106406 0.02240927 0.14081269 0.11653198 0.08997294]\n",
      "  [0.44456006 0.26590443 0.59891482 0.32479383 0.82619321]]]\n",
      "----\n",
      "[[[1.97912552 1.63062069 1.48322617 1.04013556 1.60453071]\n",
      "  [1.19251799 1.6643125  1.77325803 1.02816087 1.28361563]\n",
      "  [1.84088713 1.09418897 1.31356481 1.51190156 1.12055931]]\n",
      "\n",
      " [[1.04462924 1.22528526 1.0258587  1.70798016 1.29841503]\n",
      "  [1.54106406 1.02240927 1.14081269 1.11653198 1.08997294]\n",
      "  [1.44456006 1.26590443 1.59891482 1.32479383 1.82619321]]]\n"
     ]
    }
   ],
   "source": [
    "print(a)\n",
    "print('----')\n",
    "print(d)\n",
    "\n",
    "# the values from a were added to c"
   ]
  },
  {
   "cell_type": "markdown",
   "metadata": {},
   "source": [
    "#### 12. Multiply *a* and *c*. Assign the result to *e*."
   ]
  },
  {
   "cell_type": "code",
   "execution_count": 69,
   "metadata": {},
   "outputs": [
    {
     "name": "stdout",
     "output_type": "stream",
     "text": [
      "[[[0.97912552 0.63062069 0.48322617 0.04013556 0.60453071]\n",
      "  [0.19251799 0.6643125  0.77325803 0.02816087 0.28361563]\n",
      "  [0.84088713 0.09418897 0.31356481 0.51190156 0.12055931]]\n",
      "\n",
      " [[0.04462924 0.22528526 0.0258587  0.70798016 0.29841503]\n",
      "  [0.54106406 0.02240927 0.14081269 0.11653198 0.08997294]\n",
      "  [0.44456006 0.26590443 0.59891482 0.32479383 0.82619321]]]\n"
     ]
    }
   ],
   "source": [
    "# your code here\n",
    "\n",
    "e = np.multiply(a,c)\n",
    "\n",
    "print(e)"
   ]
  },
  {
   "cell_type": "markdown",
   "metadata": {},
   "source": [
    "#### 13. Does *e* equal to *a*? Why or why not?\n"
   ]
  },
  {
   "cell_type": "code",
   "execution_count": 70,
   "metadata": {},
   "outputs": [
    {
     "name": "stdout",
     "output_type": "stream",
     "text": [
      "[[[ True  True  True  True  True]\n",
      "  [ True  True  True  True  True]\n",
      "  [ True  True  True  True  True]]\n",
      "\n",
      " [[ True  True  True  True  True]\n",
      "  [ True  True  True  True  True]\n",
      "  [ True  True  True  True  True]]]\n"
     ]
    }
   ],
   "source": [
    "print(a == e)\n",
    "\n",
    "# E is the result of a multiplied buy C. C is result of transpose B. B is a \"ones\" array. so the multiplication is values from a multiplied by 1. "
   ]
  },
  {
   "cell_type": "markdown",
   "metadata": {},
   "source": [
    "#### 14. Identify the max, min, and mean values in *d*. Assign those values to variables *d_max*, *d_min* and *d_mean*."
   ]
  },
  {
   "cell_type": "code",
   "execution_count": 71,
   "metadata": {},
   "outputs": [
    {
     "name": "stdout",
     "output_type": "stream",
     "text": [
      "max value of \"d\" is 1.9791255171845976\n",
      "min value of \"d\" is 1.0224092687521098\n",
      "mean value of \"d\" is 1.3744643712094642\n"
     ]
    }
   ],
   "source": [
    "print(f'max value of \"d\" is {np.max(d)}')\n",
    "print(f'min value of \"d\" is {np.min(d)}')\n",
    "print(f'mean value of \"d\" is {np.mean(d)}')"
   ]
  },
  {
   "cell_type": "markdown",
   "metadata": {},
   "source": [
    "#### 15. Now we want to label the values in *d*. First create an empty array *f* with the same shape (i.e. 2x3x5) as *d* using `np.empty`.\n"
   ]
  },
  {
   "cell_type": "code",
   "execution_count": 72,
   "metadata": {},
   "outputs": [
    {
     "name": "stdout",
     "output_type": "stream",
     "text": [
      "[[[0.97912552 0.63062069 0.48322617 0.04013556 0.60453071]\n",
      "  [0.19251799 0.6643125  0.77325803 0.02816087 0.28361563]\n",
      "  [0.84088713 0.09418897 0.31356481 0.51190156 0.12055931]]\n",
      "\n",
      " [[0.04462924 0.22528526 0.0258587  0.70798016 0.29841503]\n",
      "  [0.54106406 0.02240927 0.14081269 0.11653198 0.08997294]\n",
      "  [0.44456006 0.26590443 0.59891482 0.32479383 0.82619321]]]\n"
     ]
    }
   ],
   "source": [
    "# your code \n",
    "f = np.empty((2,3,5))\n",
    "\n",
    "print(f)"
   ]
  },
  {
   "cell_type": "markdown",
   "metadata": {},
   "source": [
    "#### 16. Populate the values in *f*. \n",
    "\n",
    "For each value in *d*, if it's larger than *d_min* but smaller than *d_mean*, assign 25 to the corresponding value in *f*. If a value in *d* is larger than *d_mean* but smaller than *d_max*, assign 75 to the corresponding value in *f*. If a value equals to *d_mean*, assign 50 to the corresponding value in *f*. Assign 0 to the corresponding value(s) in *f* for *d_min* in *d*. Assign 100 to the corresponding value(s) in *f* for *d_max* in *d*. In the end, f should have only the following values: 0, 25, 50, 75, and 100.\n",
    "\n",
    "**Note**: you don't have to use Numpy in this question."
   ]
  },
  {
   "cell_type": "code",
   "execution_count": 73,
   "metadata": {},
   "outputs": [
    {
     "name": "stdout",
     "output_type": "stream",
     "text": [
      "[[[100.  75.  75.  25.  75.]\n",
      "  [ 25.  75.  75.  25.  25.]\n",
      "  [ 75.  25.  25.  75.  25.]]\n",
      "\n",
      " [[ 25.  25.  25.  75.  25.]\n",
      "  [ 75.   0.  25.  25.  25.]\n",
      "  [ 75.  25.  75.  25.  75.]]]\n"
     ]
    }
   ],
   "source": [
    "for i, item in enumerate(d):\n",
    "    for si, sub_item in enumerate(item):\n",
    "        for ssi, ssub_item in enumerate(sub_item):\n",
    "            if np.min(d) < ssub_item < np.mean(d):\n",
    "                f[i][si][ssi] = 25\n",
    "            elif np.mean(d) < ssub_item < np.max(d):\n",
    "                f[i][si][ssi] = 75\n",
    "            elif ssub_item == np.mean(d):\n",
    "                f[i][si][ssi] = 50\n",
    "            elif ssub_item == np.min(d):\n",
    "                f[i][si][ssi] = 0\n",
    "            elif ssub_item == np.max(d):\n",
    "                f[i][si][ssi] = 100\n",
    "\n",
    "print(f)"
   ]
  },
  {
   "cell_type": "markdown",
   "metadata": {},
   "source": [
    "#### 17. Print *d* and *f*. Do you have your expected *f*?\n",
    "For instance, if your *d* is:\n",
    "```python\n",
    "[[[1.85836099, 1.67064465, 1.62576044, 1.40243961, 1.88454931],\n",
    "[1.75354326, 1.69403643, 1.36729252, 1.61415071, 1.12104981],\n",
    "[1.72201435, 1.1862918 , 1.87078449, 1.7726778 , 1.88180042]],\n",
    "[[1.44747908, 1.31673383, 1.02000951, 1.52218947, 1.97066381],\n",
    "[1.79129243, 1.74983003, 1.96028037, 1.85166831, 1.65450881],\n",
    "[1.18068344, 1.9587381 , 1.00656599, 1.93402165, 1.73514584]]]\n",
    "```\n",
    "Your *f* should be:\n",
    "```python\n",
    "[[[ 75.,  75.,  75.,  25.,  75.],\n",
    "[ 75.,  75.,  25.,  25.,  25.],\n",
    "[ 75.,  25.,  75.,  75.,  75.]],\n",
    "[[ 25.,  25.,  25.,  25., 100.],\n",
    "[ 75.,  75.,  75.,  75.,  75.],\n",
    "[ 25.,  75.,   0.,  75.,  75.]]]\n",
    "```"
   ]
  },
  {
   "cell_type": "code",
   "execution_count": 74,
   "metadata": {},
   "outputs": [],
   "source": [
    "# your code here"
   ]
  },
  {
   "cell_type": "markdown",
   "metadata": {},
   "source": [
    "#### 18. Bonus question: instead of using numbers (i.e. 0, 25, 50, 75, and 100), use string values  (\"A\", \"B\", \"C\", \"D\", and \"E\") to label the array elements. For the example above, the expected result is:\n",
    "\n",
    "```python\n",
    "[[[ 'D',  'D',  'D',  'B',  'D'],\n",
    "[ 'D',  'D',  'B',  'B',  'B'],\n",
    "[ 'D',  'B',  'D',  'D',  'D']],\n",
    "[[ 'B',  'B',  'B',  'B',  'E'],\n",
    "[ 'D',  'D',  'D',  'D',  'D'],\n",
    "[ 'B',  'D',   'A',  'D', 'D']]]\n",
    "```\n",
    "**Note**: you don't have to use Numpy in this question."
   ]
  },
  {
   "cell_type": "code",
   "execution_count": 75,
   "metadata": {},
   "outputs": [
    {
     "name": "stdout",
     "output_type": "stream",
     "text": [
      "[[['E' 'C' 'C' 'B' 'C']\n",
      "  ['B' 'C' 'C' 'B' 'B']\n",
      "  ['C' 'B' 'B' 'C' 'B']]\n",
      "\n",
      " [['B' 'B' 'B' 'C' 'B']\n",
      "  ['C' 'A' 'B' 'B' 'B']\n",
      "  ['C' 'B' 'C' 'B' 'C']]]\n"
     ]
    }
   ],
   "source": [
    "# your code here\n",
    "f = np.empty((2,3,5), dtype=object)\n",
    "\n",
    "\n",
    "for i, item in enumerate(d):\n",
    "    for si, sub_item in enumerate(item):\n",
    "        for ssi, ssub_item in enumerate(sub_item):\n",
    "            if np.min(d) < ssub_item < np.mean(d):\n",
    "                f[i][si][ssi] = \"B\"\n",
    "            elif np.mean(d) < ssub_item < np.max(d):\n",
    "                f[i][si][ssi] = \"C\"\n",
    "            elif ssub_item == np.mean(d):\n",
    "                f[i][si][ssi] = \"D\"\n",
    "            elif ssub_item == np.min(d):\n",
    "                f[i][si][ssi] = \"A\"\n",
    "            elif ssub_item == np.max(d):\n",
    "                f[i][si][ssi] = \"E\"\n",
    "\n",
    "print(f)"
   ]
  }
 ],
 "metadata": {
  "kernelspec": {
   "display_name": "Python 3.7.4 64-bit",
   "language": "python",
   "name": "python3"
  },
  "language_info": {
   "codemirror_mode": {
    "name": "ipython",
    "version": 3
   },
   "file_extension": ".py",
   "mimetype": "text/x-python",
   "name": "python",
   "nbconvert_exporter": "python",
   "pygments_lexer": "ipython3",
   "version": "3.7.4"
  },
  "vscode": {
   "interpreter": {
    "hash": "c438be70fe7b14fa31e78cfaf571a5f956365162ba67af6fb1eb95bac3223110"
   }
  }
 },
 "nbformat": 4,
 "nbformat_minor": 2
}
